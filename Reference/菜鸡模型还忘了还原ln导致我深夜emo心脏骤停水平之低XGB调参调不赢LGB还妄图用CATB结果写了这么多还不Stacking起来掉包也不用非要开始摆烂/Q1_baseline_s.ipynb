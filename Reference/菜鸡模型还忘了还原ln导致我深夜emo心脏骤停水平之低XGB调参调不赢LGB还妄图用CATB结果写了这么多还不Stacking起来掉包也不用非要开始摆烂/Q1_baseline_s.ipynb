{
 "cells": [
  {
   "cell_type": "code",
   "execution_count": 51,
   "metadata": {},
   "outputs": [],
   "source": [
    "import datetime\n",
    "import numpy as np\n",
    "import pandas as pd\n",
    "import numpy as np\n",
    "from tqdm import tqdm\n",
    "tqdm.pandas()\n"
   ]
  },
  {
   "cell_type": "code",
   "execution_count": 52,
   "metadata": {},
   "outputs": [],
   "source": [
    "train = pd.read_csv('file1.csv')\n",
    "test = pd.read_csv('file2.csv')\n"
   ]
  },
  {
   "cell_type": "markdown",
   "metadata": {},
   "source": [
    "# 特征工程"
   ]
  },
  {
   "cell_type": "code",
   "execution_count": 53,
   "metadata": {},
   "outputs": [],
   "source": [
    "# 只取部分缺失值较少或没有的字段\n",
    "# column_tra = [\"carid\", \"tradeTime\", \"brand\", \"serial\", \"model\", \"mileage\", \"color\", \"cityId\", \"carCode\", \"transferCount\", \"seatings\", \"registerDate\",\n",
    "#           \"licenseDate\", \"country\", \"maketype\", \"modelyear\", \"displacement\", \"gearbox\", \"oiltype\", \"newprice\", \"anonymousFeature1\", \"anonymousFeature2\",\n",
    "#           \"anonymousFeature3\", \"anonymousFeature4\", \"anonymousFeature5\", \"anonymousFeature6\", \"anonymousFeature8\", \"anonymousFeature9\",\n",
    "#               \"anonymousFeature10\", \"anonymousFeature11\", \"anonymousFeature12\", \"anonymousFeature13\", \"anonymousFeature14\", \"price\"]\n",
    "# column_te = [\"carid\", \"tradeTime\", \"brand\", \"serial\", \"model\", \"mileage\", \"color\", \"cityId\", \"carCode\", \"transferCount\", \"seatings\", \"registerDate\",\n",
    "#           \"licenseDate\", \"country\", \"maketype\", \"modelyear\", \"displacement\", \"gearbox\", \"oiltype\", \"newprice\", \"anonymousFeature1\", \"anonymousFeature2\",\n",
    "#           \"anonymousFeature3\", \"anonymousFeature4\", \"anonymousFeature5\", \"anonymousFeature6\",  \"anonymousFeature8\", \"anonymousFeature9\",\n",
    "#              \"anonymousFeature10\", \"anonymousFeature11\", \"anonymousFeature12\", \"anonymousFeature13\", \"anonymousFeature14\"]\n",
    "\n",
    "column_tra = [\"carid\", \"tradeTime\", \"brand\", \"serial\", \"model\", \"mileage\", \"color\", \"cityId\", \"carCode\", \"transferCount\", \"seatings\", \"registerDate\",\n",
    "              \"licenseDate\", \"country\", \"maketype\", \"modelyear\", \"displacement\", \"gearbox\", \"oiltype\", \"newprice\", \"anonymousFeature1\", \"anonymousFeature2\",\n",
    "              \"anonymousFeature3\", \"anonymousFeature5\", \"anonymousFeature6\", \"anonymousFeature11\", \"anonymousFeature12\", \"anonymousFeature14\", \"price\"]\n",
    "column_te = [\"carid\", \"tradeTime\", \"brand\", \"serial\", \"model\", \"mileage\", \"color\", \"cityId\", \"carCode\", \"transferCount\", \"seatings\", \"registerDate\",\n",
    "             \"licenseDate\", \"country\", \"maketype\", \"modelyear\", \"displacement\", \"gearbox\", \"oiltype\", \"newprice\", \"anonymousFeature1\", \"anonymousFeature2\",\n",
    "             \"anonymousFeature3\",  \"anonymousFeature5\", \"anonymousFeature6\", \n",
    "              \"anonymousFeature11\", \"anonymousFeature12\", \"anonymousFeature14\"]\n"
   ]
  },
  {
   "cell_type": "code",
   "execution_count": 54,
   "metadata": {},
   "outputs": [],
   "source": [
    "train = train[column_tra]\n",
    "test = test[column_te]\n"
   ]
  },
  {
   "cell_type": "markdown",
   "metadata": {},
   "source": [
    "# 缺失值处理"
   ]
  },
  {
   "cell_type": "code",
   "execution_count": 55,
   "metadata": {},
   "outputs": [],
   "source": [
    "# 以下分类特征全部填充众数\n",
    "train['carCode'] = train['carCode'].fillna(1)\n",
    "train['modelyear'] = train['modelyear'].fillna(2017)\n",
    "train['country'] = train['country'].fillna(779412)\n",
    "train['maketype'] = train['maketype'].fillna(2)\n",
    "train['gearbox'] = train['gearbox'].fillna(3)\n",
    "train['anonymousFeature5'] = train['anonymousFeature5'].fillna(8)\n",
    "\n",
    "test['carCode'] = test['carCode'].fillna(1)\n",
    "test['modelyear'] = test['modelyear'].fillna(2017)\n",
    "test['country'] = test['country'].fillna(779412)\n",
    "test['maketype'] = test['maketype'].fillna(2)\n",
    "test['gearbox'] = test['gearbox'].fillna(3)\n",
    "test['anonymousFeature5'] = test['anonymousFeature5'].fillna(12)\n",
    "\n",
    "\n",
    "train['anonymousFeature1'] = train['anonymousFeature1'].fillna(1)\n",
    "# train['anonymousFeature4'] = train['anonymousFeature4'].fillna(3)\n",
    "# train['anonymousFeature8'] = train['anonymousFeature8'].fillna(1)\n",
    "# train['anonymousFeature9'] = train['anonymousFeature9'].fillna(5)\n",
    "# train['anonymousFeature10'] = train['anonymousFeature10'].fillna(3)\n",
    "train['anonymousFeature11'] = train['anonymousFeature11'].fillna('1+2')\n",
    "\n",
    "test['anonymousFeature1'] = test['anonymousFeature1'].fillna(1)\n",
    "# test['anonymousFeature4'] = test['anonymousFeature4'].fillna(4)\n",
    "# test['anonymousFeature8'] = test['anonymousFeature8'].fillna(1)\n",
    "# test['anonymousFeature9'] = test['anonymousFeature9'].fillna(5)\n",
    "# test['anonymousFeature10'] = test['anonymousFeature10'].fillna(2)\n",
    "test['anonymousFeature11'] = test['anonymousFeature11'].fillna('1+2')\n"
   ]
  },
  {
   "cell_type": "markdown",
   "metadata": {},
   "source": [
    "## 提取时间特征"
   ]
  },
  {
   "cell_type": "code",
   "execution_count": 56,
   "metadata": {},
   "outputs": [],
   "source": [
    "# # 时间处理(提取年月日)\n",
    "train['tradeTime'] = pd.to_datetime(train['tradeTime'])\n",
    "train['registerDate'] = pd.to_datetime(train['registerDate'])\n",
    "train['licenseDate'] = pd.to_datetime(train['licenseDate'])\n",
    "test['tradeTime'] = pd.to_datetime(test['tradeTime'])\n",
    "test['registerDate'] = pd.to_datetime(test['registerDate'])\n",
    "test['licenseDate'] = pd.to_datetime(test['licenseDate'])\n"
   ]
  },
  {
   "cell_type": "code",
   "execution_count": 57,
   "metadata": {},
   "outputs": [],
   "source": [
    "\n",
    "train['tradeTime_year'] = train['tradeTime'].dt.year\n",
    "train['tradeTime_month'] = train['tradeTime'].dt.month\n",
    "train['tradeTime_day'] = train['tradeTime'].dt.day\n",
    "train['registerDate_year'] = train['registerDate'].dt.year\n",
    "train['registerDate_month'] = train['registerDate'].dt.month\n",
    "train['registerDate_day'] = train['registerDate'].dt.day\n",
    "test['tradeTime_year'] = test['tradeTime'].dt.year\n",
    "test['tradeTime_month'] = test['tradeTime'].dt.month\n",
    "test['tradeTime_day'] = test['tradeTime'].dt.day\n",
    "test['registerDate_year'] = test['registerDate'].dt.year\n",
    "test['registerDate_month'] = test['registerDate'].dt.month\n",
    "test['registerDate_day'] = test['registerDate'].dt.day\n",
    "del train['tradeTime']\n",
    "del test['tradeTime']\n",
    "del train['registerDate']\n",
    "del test['registerDate']\n",
    "del train['licenseDate']\n",
    "del test['licenseDate']\n",
    "\n"
   ]
  },
  {
   "cell_type": "markdown",
   "metadata": {},
   "source": [
    "## 匿名13的特征处理"
   ]
  },
  {
   "cell_type": "code",
   "execution_count": 58,
   "metadata": {},
   "outputs": [],
   "source": [
    "# # 匿名特征13(转化时间格式)\n",
    "# train = train[train['anonymousFeature13'].notna()]\n",
    "# train = train.reset_index()\n",
    "# test = test[test['anonymousFeature13'].notna()]\n",
    "# test = test.reset_index()"
   ]
  },
  {
   "cell_type": "code",
   "execution_count": 59,
   "metadata": {},
   "outputs": [],
   "source": [
    "# from tqdm import tqdm\n",
    "# tqdm.pandas()\n",
    "\n",
    "# def time_format(s):\n",
    "#     if pd.isnull(s):\n",
    "#         return s\n",
    "#     dt = datetime.datetime.strptime(str(int(s)), '%Y%m')\n",
    "#     result = dt.strftime('%Y-%m')\n",
    "#     return result\n",
    "\n",
    "# train['anonymousFeature13'].progress_apply(time_format)\n",
    "# test['anonymousFeature13'].progress_apply(time_format)\n",
    "# train['anonymousFeature13'] = pd.to_datetime(train['anonymousFeature13'])\n",
    "# test['anonymousFeature13'] = pd.to_datetime(test['anonymousFeature13'])\n",
    "# train['anonymousFeature13_year'] = train['anonymousFeature13'].dt.year\n",
    "# train['anonymousFeature13_month'] = train['anonymousFeature13'].dt.month\n",
    "# test['anonymousFeature13_year'] = test['anonymousFeature13'].dt.year\n",
    "# test['anonymousFeature13_month'] = test['anonymousFeature13'].dt.month\n",
    "# del train['anonymousFeature13']\n",
    "# del test['anonymousFeature13']\n"
   ]
  },
  {
   "cell_type": "markdown",
   "metadata": {},
   "source": [
    "## 匿名特征12的处理"
   ]
  },
  {
   "cell_type": "code",
   "execution_count": 60,
   "metadata": {},
   "outputs": [],
   "source": [
    "series1 = train['anonymousFeature12'].str.split('*', expand=True)\n",
    "train['length'] = series1[0]\n",
    "train['width'] = series1[1]\n",
    "train['high'] = series1[2]\n",
    "series2 = test['anonymousFeature12'].str.split('*', expand=True)\n",
    "test['length'] = series2[0]\n",
    "test['width'] = series2[1]\n",
    "test['high'] = series2[2]\n",
    "\n",
    "\n",
    "train['length'] = train['length'].astype(float)\n",
    "train['width'] = train['width'].astype(float)\n",
    "train['high'] = train['high'].astype(float)\n",
    "\n",
    "test['length'] = test['length'].astype(float)\n",
    "test['width'] = test['width'].astype(float)\n",
    "test['high'] = test['high'].astype(float)\n",
    "del train['anonymousFeature12']\n",
    "del test['anonymousFeature12']\n"
   ]
  },
  {
   "cell_type": "markdown",
   "metadata": {},
   "source": [
    "## 匿名特征11的处理"
   ]
  },
  {
   "cell_type": "code",
   "execution_count": 61,
   "metadata": {},
   "outputs": [],
   "source": [
    "dict = {'1':1,\n",
    "        '1+2':2,\n",
    "        '3+2':3,\n",
    "       '1+2,4+2':4,\n",
    "       '1,3+2':5,\n",
    "       '5':6}\n",
    "\n",
    "train['anonymousFeature11'] = train['anonymousFeature11'].map(dict)\n",
    "test['anonymousFeature11'] = test['anonymousFeature11'].map(dict)\n",
    "del train['anonymousFeature11']\n",
    "del test['anonymousFeature11']\n"
   ]
  },
  {
   "cell_type": "code",
   "execution_count": 62,
   "metadata": {},
   "outputs": [
    {
     "data": {
      "text/plain": [
       "carid                 False\n",
       "brand                 False\n",
       "serial                False\n",
       "model                 False\n",
       "mileage               False\n",
       "color                 False\n",
       "cityId                False\n",
       "carCode               False\n",
       "transferCount         False\n",
       "seatings              False\n",
       "country               False\n",
       "maketype              False\n",
       "modelyear             False\n",
       "displacement          False\n",
       "gearbox               False\n",
       "oiltype               False\n",
       "newprice              False\n",
       "anonymousFeature1     False\n",
       "anonymousFeature2     False\n",
       "anonymousFeature3     False\n",
       "anonymousFeature5     False\n",
       "anonymousFeature6     False\n",
       "anonymousFeature14    False\n",
       "price                 False\n",
       "tradeTime_year        False\n",
       "tradeTime_month       False\n",
       "tradeTime_day         False\n",
       "registerDate_year     False\n",
       "registerDate_month    False\n",
       "registerDate_day      False\n",
       "length                False\n",
       "width                 False\n",
       "high                  False\n",
       "dtype: bool"
      ]
     },
     "execution_count": 62,
     "metadata": {},
     "output_type": "execute_result"
    }
   ],
   "source": [
    "train.isnull().any()# 用来判断某列是否有缺失值"
   ]
  },
  {
   "cell_type": "code",
   "execution_count": 63,
   "metadata": {},
   "outputs": [],
   "source": [
    "train.to_csv('clear_train.csv',index=0)\n",
    "test.to_csv('clear_test.csv',index=0)"
   ]
  },
  {
   "cell_type": "code",
   "execution_count": 64,
   "metadata": {},
   "outputs": [
    {
     "name": "stdout",
     "output_type": "stream",
     "text": [
      "<class 'pandas.core.frame.DataFrame'>\n",
      "RangeIndex: 30000 entries, 0 to 29999\n",
      "Data columns (total 33 columns):\n",
      " #   Column              Non-Null Count  Dtype  \n",
      "---  ------              --------------  -----  \n",
      " 0   carid               30000 non-null  int64  \n",
      " 1   brand               30000 non-null  int64  \n",
      " 2   serial              30000 non-null  int64  \n",
      " 3   model               30000 non-null  int64  \n",
      " 4   mileage             30000 non-null  float64\n",
      " 5   color               30000 non-null  int64  \n",
      " 6   cityId              30000 non-null  int64  \n",
      " 7   carCode             30000 non-null  float64\n",
      " 8   transferCount       30000 non-null  int64  \n",
      " 9   seatings            30000 non-null  int64  \n",
      " 10  country             30000 non-null  float64\n",
      " 11  maketype            30000 non-null  float64\n",
      " 12  modelyear           30000 non-null  float64\n",
      " 13  displacement        30000 non-null  float64\n",
      " 14  gearbox             30000 non-null  float64\n",
      " 15  oiltype             30000 non-null  int64  \n",
      " 16  newprice            30000 non-null  float64\n",
      " 17  anonymousFeature1   30000 non-null  float64\n",
      " 18  anonymousFeature2   30000 non-null  int64  \n",
      " 19  anonymousFeature3   30000 non-null  int64  \n",
      " 20  anonymousFeature5   30000 non-null  int64  \n",
      " 21  anonymousFeature6   30000 non-null  int64  \n",
      " 22  anonymousFeature14  30000 non-null  int64  \n",
      " 23  price               30000 non-null  float64\n",
      " 24  tradeTime_year      30000 non-null  int64  \n",
      " 25  tradeTime_month     30000 non-null  int64  \n",
      " 26  tradeTime_day       30000 non-null  int64  \n",
      " 27  registerDate_year   30000 non-null  int64  \n",
      " 28  registerDate_month  30000 non-null  int64  \n",
      " 29  registerDate_day    30000 non-null  int64  \n",
      " 30  length              30000 non-null  float64\n",
      " 31  width               30000 non-null  float64\n",
      " 32  high                30000 non-null  float64\n",
      "dtypes: float64(13), int64(20)\n",
      "memory usage: 7.6 MB\n"
     ]
    }
   ],
   "source": [
    "train.info()\n"
   ]
  },
  {
   "cell_type": "markdown",
   "metadata": {},
   "source": [
    "# 训练模型"
   ]
  },
  {
   "cell_type": "code",
   "execution_count": 65,
   "metadata": {},
   "outputs": [],
   "source": [
    "from sklearn.metrics import mean_squared_error\n",
    "from sklearn.model_selection import StratifiedKFold, KFold\n",
    "from sklearn.model_selection import train_test_split\n",
    "from sklearn.metrics import mean_squared_error\n",
    "from sklearn.ensemble import RandomForestRegressor\n",
    "import lightgbm as lgb\n",
    "from sklearn.tree import DecisionTreeRegressor\n",
    "from sklearn.svm import SVR\n",
    "import pandas as pd\n",
    "import warnings\n",
    "from sklearn.preprocessing import scale\n",
    "from sklearn.model_selection import cross_val_score\n",
    "import lightgbm as lgb\n",
    "from sklearn.model_selection import KFold\n",
    "import xgboost as xgb\n",
    "from catboost import CatBoostRegressor\n",
    "import time\n",
    "import numpy as np\n",
    "from sklearn.preprocessing import StandardScaler\n"
   ]
  },
  {
   "cell_type": "code",
   "execution_count": 66,
   "metadata": {},
   "outputs": [],
   "source": [
    "train = pd.read_csv('clear_train.csv')\n",
    "test = pd.read_csv('clear_test.csv')\n"
   ]
  },
  {
   "cell_type": "code",
   "execution_count": 67,
   "metadata": {},
   "outputs": [
    {
     "data": {
      "text/plain": [
       "count     30000.000000\n",
       "mean         18.062224\n",
       "std         629.444049\n",
       "min           0.050000\n",
       "25%           6.100000\n",
       "50%          10.479900\n",
       "75%          18.000000\n",
       "max      109000.000000\n",
       "Name: price, dtype: float64"
      ]
     },
     "execution_count": 67,
     "metadata": {},
     "output_type": "execute_result"
    }
   ],
   "source": [
    "train['price'].describe()"
   ]
  },
  {
   "cell_type": "code",
   "execution_count": 68,
   "metadata": {},
   "outputs": [
    {
     "name": "stderr",
     "output_type": "stream",
     "text": [
      "C:\\Users\\雷军\\AppData\\Local\\Temp/ipykernel_676/1252073722.py:4: SettingWithCopyWarning: \n",
      "A value is trying to be set on a copy of a slice from a DataFrame.\n",
      "Try using .loc[row_indexer,col_indexer] = value instead\n",
      "\n",
      "See the caveats in the documentation: https://pandas.pydata.org/pandas-docs/stable/user_guide/indexing.html#returning-a-view-versus-a-copy\n",
      "  train_X['price'] = np.log1p(train_X['price'])\n"
     ]
    }
   ],
   "source": [
    "n_price = 75\n",
    "train_X = train[train['price'] < n_price]\n",
    "# 使用对数的右偏变换函数，将数据分布转为近似正态分布\n",
    "train_X['price'] = np.log1p(train_X['price'])\n",
    "train_y = train_X['price']\n",
    "del train_X['price']\n",
    "scaler = StandardScaler()\n",
    "train_x = scaler.fit_transform(train_X)\n",
    "test_x = scaler.fit_transform(test)"
   ]
  },
  {
   "cell_type": "code",
   "execution_count": 69,
   "metadata": {},
   "outputs": [
    {
     "data": {
      "text/plain": [
       "4.330470147759479"
      ]
     },
     "execution_count": 69,
     "metadata": {},
     "output_type": "execute_result"
    }
   ],
   "source": [
    "train_y.max()"
   ]
  },
  {
   "cell_type": "code",
   "execution_count": 70,
   "metadata": {},
   "outputs": [],
   "source": [
    "\n",
    "params = {'learning_rate': 0.01,\n",
    "          'boosting_type': 'gbdt',\n",
    "          'objective': 'regression_l1',\n",
    "          'metric': 'mae',\n",
    "          'min_child_samples': 46,\n",
    "          'min_child_weight': 0.01,\n",
    "          'feature_fraction': 0.8,\n",
    "          'bagging_fraction': 0.8,\n",
    "          'bagging_freq': 2,\n",
    "          'num_leaves': 32,\n",
    "          'max_depth': 8,\n",
    "          'n_jobs': -1,\n",
    "          'seed': 2019,\n",
    "          'verbose': -1,\n",
    "          }\n",
    "\n",
    "\n",
    "def Accuracy(y_true, y_pred):\n",
    "    \"\"\"\n",
    "    参数:\n",
    "    y_true -- 测试集目标真实值\n",
    "    y_pred -- 测试集目标预测值\n",
    "    \n",
    "    返回:\n",
    "    mape -- MAPE 评价指标\n",
    "    \"\"\"\n",
    "    e_y_true = np.exp(y_true) - 1\n",
    "    e_y_pred = np.exp(y_pred) - 1\n",
    "\n",
    "    n = len(e_y_true)\n",
    "    mape = sum(np.abs((e_y_true - e_y_pred)/e_y_true))/n\n",
    "    Apexiaoyu005 = pd.DataFrame(abs(e_y_true - e_y_pred)/e_y_true)\n",
    "    Accuracy = (Apexiaoyu005[Apexiaoyu005 <= 0.05].count() /\n",
    "                Apexiaoyu005.count())*0.8+0.2*(1-mape)\n",
    "    return Accuracy\n",
    "\n",
    "\n",
    "# def Accuracy(pred, y):\n",
    "#     t_pred = np.exp(pred) - 1\n",
    "#     t_y = np.exp(y) - 1\n",
    "#     dy = np.abs(t_pred - t_y) / t_y\n",
    "#     mape = np.sum(dy) / len(t_y)\n",
    "#     acc = len(dy[dy <= 0.05]) / len(t_y)\n",
    "#     return 0.2 * (1 - mape) + 0.8 * acc\n"
   ]
  },
  {
   "cell_type": "code",
   "execution_count": 71,
   "metadata": {},
   "outputs": [
    {
     "name": "stderr",
     "output_type": "stream",
     "text": [
      "D:\\ProgramData\\Anaconda3\\envs\\pytorch\\lib\\site-packages\\lightgbm\\engine.py:181: UserWarning: 'early_stopping_rounds' argument is deprecated and will be removed in a future release of LightGBM. Pass 'early_stopping()' callback via 'callbacks' argument instead.\n",
      "  _log_warning(\"'early_stopping_rounds' argument is deprecated and will be removed in a future release of LightGBM. \"\n",
      "D:\\ProgramData\\Anaconda3\\envs\\pytorch\\lib\\site-packages\\lightgbm\\engine.py:239: UserWarning: 'verbose_eval' argument is deprecated and will be removed in a future release of LightGBM. Pass 'log_evaluation()' callback via 'callbacks' argument instead.\n",
      "  _log_warning(\"'verbose_eval' argument is deprecated and will be removed in a future release of LightGBM. \"\n"
     ]
    },
    {
     "name": "stdout",
     "output_type": "stream",
     "text": [
      "fold  1\n",
      "fold  2\n",
      "fold  3\n",
      "fold  4\n",
      "fold  5\n"
     ]
    }
   ],
   "source": [
    "val_pred = np.zeros(len(train_x))\n",
    "val_true = np.zeros(len(train_x))\n",
    "preds = np.zeros(len(test_x))\n",
    "folds = 5\n",
    "# seeds = [1234]\n",
    "# for seed in seeds:\n",
    "kfold = KFold(n_splits=folds, shuffle=True, random_state=4321)\n",
    "for fold, (trn_idx, val_idx) in enumerate(kfold.split(train_x, train_y)):\n",
    "    print('fold ', fold + 1)\n",
    "    x_trn, y_trn, x_val, y_val = train_x[trn_idx], train_y.iloc[trn_idx], train_x[val_idx], train_y.iloc[val_idx]\n",
    "    train_set = lgb.Dataset(x_trn, y_trn)\n",
    "    val_set = lgb.Dataset(x_val, y_val)\n",
    "\n",
    "    model = lgb.train(params, train_set, num_boost_round=5000,\n",
    "                      valid_sets=(\n",
    "                          train_set, val_set), early_stopping_rounds=500,\n",
    "                      verbose_eval=False)\n",
    "    val_pred[val_idx] += model.predict(x_val, predict_disable_shape_check=True)\n",
    "    preds += model.predict(test_x, predict_disable_shape_check=True) / folds\n",
    "    val_true[val_idx] += y_val\n",
    "\n"
   ]
  },
  {
   "cell_type": "code",
   "execution_count": 72,
   "metadata": {},
   "outputs": [
    {
     "name": "stdout",
     "output_type": "stream",
     "text": [
      "------------------------------------------------------------------------------------------------------------------------\n",
      "Accuracy  0    0.55182\n",
      "dtype: float64\n"
     ]
    }
   ],
   "source": [
    "acc = Accuracy(val_true, val_pred)\n",
    "print('-'*120)\n",
    "print('Accuracy ', round(acc, 5))\n"
   ]
  },
  {
   "cell_type": "code",
   "execution_count": 73,
   "metadata": {},
   "outputs": [],
   "source": [
    "submit_df = pd.DataFrame(columns=['price']) \n",
    "submit_df['price'] = preds\n",
    "submit_df = submit_df.price.apply(np.expm1)  # np.log1p与np.expm1互为逆运算\n",
    "submit_df.to_csv('估价模型结果.csv', header=0)"
   ]
  },
  {
   "cell_type": "code",
   "execution_count": 74,
   "metadata": {},
   "outputs": [
    {
     "data": {
      "text/plain": [
       "4.302882543484065"
      ]
     },
     "execution_count": 74,
     "metadata": {},
     "output_type": "execute_result"
    }
   ],
   "source": [
    "val_pred.max()"
   ]
  },
  {
   "cell_type": "code",
   "execution_count": 75,
   "metadata": {},
   "outputs": [
    {
     "data": {
      "text/plain": [
       "4.330470147759479"
      ]
     },
     "execution_count": 75,
     "metadata": {},
     "output_type": "execute_result"
    }
   ],
   "source": [
    "val_true.max()"
   ]
  }
 ],
 "metadata": {
  "interpreter": {
   "hash": "2fc9f0689f2f32664301ce51aaed3853cc1802bb7b4d4a74b41993575fbadbc0"
  },
  "kernelspec": {
   "display_name": "Python 3.6.13 64-bit ('tf2': conda)",
   "name": "python3"
  },
  "language_info": {
   "codemirror_mode": {
    "name": "ipython",
    "version": 3
   },
   "file_extension": ".py",
   "mimetype": "text/x-python",
   "name": "python",
   "nbconvert_exporter": "python",
   "pygments_lexer": "ipython3",
   "version": "3.8.3"
  },
  "orig_nbformat": 4
 },
 "nbformat": 4,
 "nbformat_minor": 2
}
