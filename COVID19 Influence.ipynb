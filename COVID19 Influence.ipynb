{
 "cells": [
  {
   "cell_type": "code",
   "execution_count": 125,
   "metadata": {},
   "outputs": [],
   "source": [
    "import os\n",
    "import warnings\n",
    "import numpy as np\n",
    "import pandas as pd\n",
    "import seaborn as sns\n",
    "import matplotlib.pyplot as plt\n",
    "\n",
    "np.random.seed(42)\n",
    "os.environ[\"PYTHONWARNINGS\"] = \"ignore::UserWarning\"\n",
    "warnings.filterwarnings('ignore')\n",
    "warnings.filterwarnings(action='ignore', category=UserWarning)"
   ]
  },
  {
   "cell_type": "code",
   "execution_count": 126,
   "metadata": {},
   "outputs": [
    {
     "data": {
      "text/html": [
       "<div>\n",
       "<style scoped>\n",
       "    .dataframe tbody tr th:only-of-type {\n",
       "        vertical-align: middle;\n",
       "    }\n",
       "\n",
       "    .dataframe tbody tr th {\n",
       "        vertical-align: top;\n",
       "    }\n",
       "\n",
       "    .dataframe thead th {\n",
       "        text-align: right;\n",
       "    }\n",
       "</style>\n",
       "<table border=\"1\" class=\"dataframe\">\n",
       "  <thead>\n",
       "    <tr style=\"text-align: right;\">\n",
       "      <th></th>\n",
       "      <th>tradeTime</th>\n",
       "      <th>price</th>\n",
       "      <th>pred_price</th>\n",
       "    </tr>\n",
       "  </thead>\n",
       "  <tbody>\n",
       "    <tr>\n",
       "      <th>0</th>\n",
       "      <td>0.840336</td>\n",
       "      <td>1.656321</td>\n",
       "      <td>1.707196</td>\n",
       "    </tr>\n",
       "    <tr>\n",
       "      <th>1</th>\n",
       "      <td>0.827731</td>\n",
       "      <td>2.125848</td>\n",
       "      <td>2.232424</td>\n",
       "    </tr>\n",
       "    <tr>\n",
       "      <th>2</th>\n",
       "      <td>0.802521</td>\n",
       "      <td>0.693147</td>\n",
       "      <td>0.980275</td>\n",
       "    </tr>\n",
       "    <tr>\n",
       "      <th>3</th>\n",
       "      <td>0.844538</td>\n",
       "      <td>1.682688</td>\n",
       "      <td>1.747690</td>\n",
       "    </tr>\n",
       "    <tr>\n",
       "      <th>4</th>\n",
       "      <td>0.848739</td>\n",
       "      <td>1.931521</td>\n",
       "      <td>2.074259</td>\n",
       "    </tr>\n",
       "    <tr>\n",
       "      <th>...</th>\n",
       "      <td>...</td>\n",
       "      <td>...</td>\n",
       "      <td>...</td>\n",
       "    </tr>\n",
       "    <tr>\n",
       "      <th>29994</th>\n",
       "      <td>0.701681</td>\n",
       "      <td>0.631272</td>\n",
       "      <td>0.801289</td>\n",
       "    </tr>\n",
       "    <tr>\n",
       "      <th>29995</th>\n",
       "      <td>-0.798319</td>\n",
       "      <td>2.230014</td>\n",
       "      <td>2.249368</td>\n",
       "    </tr>\n",
       "    <tr>\n",
       "      <th>29996</th>\n",
       "      <td>-0.310924</td>\n",
       "      <td>1.791759</td>\n",
       "      <td>1.766318</td>\n",
       "    </tr>\n",
       "    <tr>\n",
       "      <th>29997</th>\n",
       "      <td>-0.130252</td>\n",
       "      <td>3.367296</td>\n",
       "      <td>3.280470</td>\n",
       "    </tr>\n",
       "    <tr>\n",
       "      <th>29998</th>\n",
       "      <td>-0.012605</td>\n",
       "      <td>2.985682</td>\n",
       "      <td>2.918775</td>\n",
       "    </tr>\n",
       "  </tbody>\n",
       "</table>\n",
       "<p>29999 rows × 3 columns</p>\n",
       "</div>"
      ],
      "text/plain": [
       "       tradeTime     price  pred_price\n",
       "0       0.840336  1.656321    1.707196\n",
       "1       0.827731  2.125848    2.232424\n",
       "2       0.802521  0.693147    0.980275\n",
       "3       0.844538  1.682688    1.747690\n",
       "4       0.848739  1.931521    2.074259\n",
       "...          ...       ...         ...\n",
       "29994   0.701681  0.631272    0.801289\n",
       "29995  -0.798319  2.230014    2.249368\n",
       "29996  -0.310924  1.791759    1.766318\n",
       "29997  -0.130252  3.367296    3.280470\n",
       "29998  -0.012605  2.985682    2.918775\n",
       "\n",
       "[29999 rows x 3 columns]"
      ]
     },
     "execution_count": 126,
     "metadata": {},
     "output_type": "execute_result"
    }
   ],
   "source": [
    "df = pd.read_csv('input/inputTrain.csv').drop(columns='Unnamed: 0')\n",
    "df = df[['tradeTime', 'price']]\n",
    "df['pred_price'] = pd.read_csv('pricePrediction.csv')['Stacking_model'].values\n",
    "df['price'].apply(lambda x: np.expm1(x))\n",
    "df['pred_price'].apply(lambda x: np.expm1(x))\n",
    "date = df['tradeTime'].unique()\n",
    "date.sort()\n",
    "df"
   ]
  },
  {
   "cell_type": "code",
   "execution_count": 127,
   "metadata": {},
   "outputs": [],
   "source": [
    "df = df[np.abs(df['price'] - df['pred_price']) / df['price'] < 0.1]"
   ]
  },
  {
   "cell_type": "code",
   "execution_count": 128,
   "metadata": {},
   "outputs": [
    {
     "data": {
      "text/html": [
       "<div>\n",
       "<style scoped>\n",
       "    .dataframe tbody tr th:only-of-type {\n",
       "        vertical-align: middle;\n",
       "    }\n",
       "\n",
       "    .dataframe tbody tr th {\n",
       "        vertical-align: top;\n",
       "    }\n",
       "\n",
       "    .dataframe thead th {\n",
       "        text-align: right;\n",
       "    }\n",
       "</style>\n",
       "<table border=\"1\" class=\"dataframe\">\n",
       "  <thead>\n",
       "    <tr style=\"text-align: right;\">\n",
       "      <th></th>\n",
       "      <th>price</th>\n",
       "      <th>pred_price</th>\n",
       "      <th>tradeTime</th>\n",
       "    </tr>\n",
       "    <tr>\n",
       "      <th>tradeTime</th>\n",
       "      <th></th>\n",
       "      <th></th>\n",
       "      <th></th>\n",
       "    </tr>\n",
       "  </thead>\n",
       "  <tbody>\n",
       "    <tr>\n",
       "      <th>-1.445378</th>\n",
       "      <td>2.517209</td>\n",
       "      <td>2.456484</td>\n",
       "      <td>-1.445378</td>\n",
       "    </tr>\n",
       "    <tr>\n",
       "      <th>-1.441176</th>\n",
       "      <td>2.411507</td>\n",
       "      <td>2.361105</td>\n",
       "      <td>-1.441176</td>\n",
       "    </tr>\n",
       "    <tr>\n",
       "      <th>-1.436975</th>\n",
       "      <td>2.526340</td>\n",
       "      <td>2.496024</td>\n",
       "      <td>-1.436975</td>\n",
       "    </tr>\n",
       "    <tr>\n",
       "      <th>-1.432773</th>\n",
       "      <td>2.166886</td>\n",
       "      <td>2.154154</td>\n",
       "      <td>-1.432773</td>\n",
       "    </tr>\n",
       "    <tr>\n",
       "      <th>-1.428571</th>\n",
       "      <td>2.650533</td>\n",
       "      <td>2.603517</td>\n",
       "      <td>-1.428571</td>\n",
       "    </tr>\n",
       "    <tr>\n",
       "      <th>...</th>\n",
       "      <td>...</td>\n",
       "      <td>...</td>\n",
       "      <td>...</td>\n",
       "    </tr>\n",
       "    <tr>\n",
       "      <th>0.962185</th>\n",
       "      <td>2.431693</td>\n",
       "      <td>2.438081</td>\n",
       "      <td>0.962185</td>\n",
       "    </tr>\n",
       "    <tr>\n",
       "      <th>0.966387</th>\n",
       "      <td>2.330474</td>\n",
       "      <td>2.328494</td>\n",
       "      <td>0.966387</td>\n",
       "    </tr>\n",
       "    <tr>\n",
       "      <th>0.970588</th>\n",
       "      <td>2.525424</td>\n",
       "      <td>2.527649</td>\n",
       "      <td>0.970588</td>\n",
       "    </tr>\n",
       "    <tr>\n",
       "      <th>0.974790</th>\n",
       "      <td>2.392422</td>\n",
       "      <td>2.406322</td>\n",
       "      <td>0.974790</td>\n",
       "    </tr>\n",
       "    <tr>\n",
       "      <th>0.978992</th>\n",
       "      <td>2.463500</td>\n",
       "      <td>2.502938</td>\n",
       "      <td>0.978992</td>\n",
       "    </tr>\n",
       "  </tbody>\n",
       "</table>\n",
       "<p>553 rows × 3 columns</p>\n",
       "</div>"
      ],
      "text/plain": [
       "              price  pred_price  tradeTime\n",
       "tradeTime                                 \n",
       "-1.445378  2.517209    2.456484  -1.445378\n",
       "-1.441176  2.411507    2.361105  -1.441176\n",
       "-1.436975  2.526340    2.496024  -1.436975\n",
       "-1.432773  2.166886    2.154154  -1.432773\n",
       "-1.428571  2.650533    2.603517  -1.428571\n",
       "...             ...         ...        ...\n",
       " 0.962185  2.431693    2.438081   0.962185\n",
       " 0.966387  2.330474    2.328494   0.966387\n",
       " 0.970588  2.525424    2.527649   0.970588\n",
       " 0.974790  2.392422    2.406322   0.974790\n",
       " 0.978992  2.463500    2.502938   0.978992\n",
       "\n",
       "[553 rows x 3 columns]"
      ]
     },
     "execution_count": 128,
     "metadata": {},
     "output_type": "execute_result"
    }
   ],
   "source": [
    "df = df.groupby('tradeTime').mean()\n",
    "df = df[['price', 'pred_price']]\n",
    "df['tradeTime'] = date\n",
    "df"
   ]
  },
  {
   "cell_type": "code",
   "execution_count": 129,
   "metadata": {},
   "outputs": [
    {
     "data": {
      "text/html": [
       "<div>\n",
       "<style scoped>\n",
       "    .dataframe tbody tr th:only-of-type {\n",
       "        vertical-align: middle;\n",
       "    }\n",
       "\n",
       "    .dataframe tbody tr th {\n",
       "        vertical-align: top;\n",
       "    }\n",
       "\n",
       "    .dataframe thead th {\n",
       "        text-align: right;\n",
       "    }\n",
       "</style>\n",
       "<table border=\"1\" class=\"dataframe\">\n",
       "  <thead>\n",
       "    <tr style=\"text-align: right;\">\n",
       "      <th></th>\n",
       "      <th>price</th>\n",
       "      <th>pred_price</th>\n",
       "      <th>tradeTime</th>\n",
       "    </tr>\n",
       "    <tr>\n",
       "      <th>tradeTime</th>\n",
       "      <th></th>\n",
       "      <th></th>\n",
       "      <th></th>\n",
       "    </tr>\n",
       "  </thead>\n",
       "  <tbody>\n",
       "    <tr>\n",
       "      <th>-1.445378</th>\n",
       "      <td>2.517209</td>\n",
       "      <td>2.456484</td>\n",
       "      <td>-1.445378</td>\n",
       "    </tr>\n",
       "    <tr>\n",
       "      <th>-1.441176</th>\n",
       "      <td>2.411507</td>\n",
       "      <td>2.361105</td>\n",
       "      <td>-1.441176</td>\n",
       "    </tr>\n",
       "    <tr>\n",
       "      <th>-1.436975</th>\n",
       "      <td>2.526340</td>\n",
       "      <td>2.496024</td>\n",
       "      <td>-1.436975</td>\n",
       "    </tr>\n",
       "    <tr>\n",
       "      <th>-1.432773</th>\n",
       "      <td>2.166886</td>\n",
       "      <td>2.154154</td>\n",
       "      <td>-1.432773</td>\n",
       "    </tr>\n",
       "    <tr>\n",
       "      <th>-1.428571</th>\n",
       "      <td>2.650533</td>\n",
       "      <td>2.603517</td>\n",
       "      <td>-1.428571</td>\n",
       "    </tr>\n",
       "    <tr>\n",
       "      <th>...</th>\n",
       "      <td>...</td>\n",
       "      <td>...</td>\n",
       "      <td>...</td>\n",
       "    </tr>\n",
       "    <tr>\n",
       "      <th>0.962185</th>\n",
       "      <td>2.431693</td>\n",
       "      <td>2.438081</td>\n",
       "      <td>0.962185</td>\n",
       "    </tr>\n",
       "    <tr>\n",
       "      <th>0.966387</th>\n",
       "      <td>2.330474</td>\n",
       "      <td>2.328494</td>\n",
       "      <td>0.966387</td>\n",
       "    </tr>\n",
       "    <tr>\n",
       "      <th>0.970588</th>\n",
       "      <td>2.525424</td>\n",
       "      <td>2.527649</td>\n",
       "      <td>0.970588</td>\n",
       "    </tr>\n",
       "    <tr>\n",
       "      <th>0.974790</th>\n",
       "      <td>2.392422</td>\n",
       "      <td>2.406322</td>\n",
       "      <td>0.974790</td>\n",
       "    </tr>\n",
       "    <tr>\n",
       "      <th>0.978992</th>\n",
       "      <td>2.463500</td>\n",
       "      <td>2.502938</td>\n",
       "      <td>0.978992</td>\n",
       "    </tr>\n",
       "  </tbody>\n",
       "</table>\n",
       "<p>553 rows × 3 columns</p>\n",
       "</div>"
      ],
      "text/plain": [
       "              price  pred_price  tradeTime\n",
       "tradeTime                                 \n",
       "-1.445378  2.517209    2.456484  -1.445378\n",
       "-1.441176  2.411507    2.361105  -1.441176\n",
       "-1.436975  2.526340    2.496024  -1.436975\n",
       "-1.432773  2.166886    2.154154  -1.432773\n",
       "-1.428571  2.650533    2.603517  -1.428571\n",
       "...             ...         ...        ...\n",
       " 0.962185  2.431693    2.438081   0.962185\n",
       " 0.966387  2.330474    2.328494   0.966387\n",
       " 0.970588  2.525424    2.527649   0.970588\n",
       " 0.974790  2.392422    2.406322   0.974790\n",
       " 0.978992  2.463500    2.502938   0.978992\n",
       "\n",
       "[553 rows x 3 columns]"
      ]
     },
     "execution_count": 129,
     "metadata": {},
     "output_type": "execute_result"
    }
   ],
   "source": [
    "df"
   ]
  },
  {
   "cell_type": "code",
   "execution_count": 130,
   "metadata": {},
   "outputs": [
    {
     "data": {
      "image/png": "[encoded data removed]",
      "text/plain": [
       "<Figure size 432x288 with 1 Axes>"
      ]
     },
     "metadata": {
      "needs_background": "light"
     },
     "output_type": "display_data"
    }
   ],
   "source": [
    "fig, ax = plt.subplots()\n",
    "\n",
    "ax.plot(df['tradeTime'], (df['price'] - df['pred_price']) / df['price'], label='price')\n",
    "ax.plot(df['tradeTime'], [0]*len(df), label='0', linewidth=3)\n",
    "# ax.plot(df['tradeTime'], df['pred_price'], label='pred', linewidth=3)\n",
    "\n",
    "ax.set_xlabel('Time')\n",
    "ax.set_ylabel(\"Number of Computed Matrices\")\n",
    "ax.legend()\n",
    "plt.show()"
   ]
  },
  {
   "cell_type": "code",
   "execution_count": 131,
   "metadata": {},
   "outputs": [
    {
     "data": {
      "text/plain": [
       "[<matplotlib.lines.Line2D at 0x233d1558790>]"
      ]
     },
     "execution_count": 131,
     "metadata": {},
     "output_type": "execute_result"
    },
    {
     "data": {
      "image/png": "[encoded data removed]",
      "text/plain": [
       "<Figure size 432x288 with 1 Axes>"
      ]
     },
     "metadata": {
      "needs_background": "light"
     },
     "output_type": "display_data"
    }
   ],
   "source": [
    "from scipy.interpolate import CubicSpline\n",
    "cs = CubicSpline(df['tradeTime'], np.expm1(df['price']) - np.expm1(df['pred_price']))\n",
    "import matplotlib.pyplot as plt\n",
    "\n",
    "xs = df['tradeTime']\n",
    "fig, ax = plt.subplots()\n",
    "# ax.plot(xs, cs(xs))\n",
    "ax.plot(xs, cs(xs), label='price')\n",
    "ax.plot([0.0168067226890756]*100, np.arange(-0.06, 0.06, 0.0012))\n",
    "ax.plot(xs, [0]*len(df), label='price')"
   ]
  },
  {
   "cell_type": "code",
   "execution_count": 132,
   "metadata": {},
   "outputs": [
    {
     "data": {
      "text/plain": [
       "[<matplotlib.lines.Line2D at 0x233d185ffa0>]"
      ]
     },
     "execution_count": 132,
     "metadata": {},
     "output_type": "execute_result"
    },
    {
     "data": {
      "image/png": "[encoded data removed]",
      "text/plain": [
       "<Figure size 432x288 with 1 Axes>"
      ]
     },
     "metadata": {
      "needs_background": "light"
     },
     "output_type": "display_data"
    }
   ],
   "source": [
    "from scipy.interpolate import CubicSpline\n",
    "cs = CubicSpline(df['tradeTime'], np.expm1(df['price']) - np.expm1(df['pred_price']))\n",
    "import matplotlib.pyplot as plt\n",
    "\n",
    "xs = df['tradeTime'].values\n",
    "fig, ax = plt.subplots()\n",
    "# ax.plot(xs, cs(xs))\n",
    "ax.plot(xs, cs(xs), label='price')\n",
    "ax.plot([xs[30]]*100, np.arange(-2, 2, 0.04))\n",
    "ax.plot(xs, [0]*len(df), label='price')"
   ]
  },
  {
   "cell_type": "code",
   "execution_count": 133,
   "metadata": {},
   "outputs": [
    {
     "data": {
      "text/plain": [
       "-1.2436974789915969"
      ]
     },
     "execution_count": 133,
     "metadata": {},
     "output_type": "execute_result"
    }
   ],
   "source": [
    "xs[30]\n",
    "# 2.18"
   ]
  }
 ],
 "metadata": {
  "interpreter": {
   "hash": "aa66ad8133c8fd1d3c48ce4d2cab6d7ce43d61c766b1e0c5e603cc1a33e28b6a"
  },
  "kernelspec": {
   "display_name": "Python 3.8.3 64-bit ('pytorch': conda)",
   "language": "python",
   "name": "python3"
  },
  "language_info": {
   "codemirror_mode": {
    "name": "ipython",
    "version": 3
   },
   "file_extension": ".py",
   "mimetype": "text/x-python",
   "name": "python",
   "nbconvert_exporter": "python",
   "pygments_lexer": "ipython3",
   "version": "3.8.3"
  },
  "orig_nbformat": 4
 },
 "nbformat": 4,
 "nbformat_minor": 2
}
